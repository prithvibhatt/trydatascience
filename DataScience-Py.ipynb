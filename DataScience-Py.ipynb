{
  "cells": [
    {
      "metadata": {
        "trusted": true
      },
      "cell_type": "markdown",
      "source": "##### Basics of Py\n\n#data types and variables\nx = 2\ny = 3.5\nz = \"John\"\nprint(x)\nprint(y)\nprint(\"Hello, \" + z )\nprint(x + y)\n\n#view the data types\nprint(type(x))\nprint(type(y))\nprint(type(z))\n\n#casting types\ny = int(y) # y will be 2\nprint (y)\n\n#Getting user input\n#username = input(\"Enter username:\")\n#print(\"Username is: \" + username)\n\n"
    },
    {
      "metadata": {
        "trusted": true
      },
      "cell_type": "code",
      "source": "##Using conditions, loops, functions\n\n# The else keyword catches anything which isn't caught by the preceding conditions.\na = 200\nb = 33\nif b > a:\n  print(\"b is greater than a\")\nelif a == b:\n  print(\"a and b are equal\")\nelse:\n  print(\"a is greater than b\")\n\n\n#Print i as long as i is less than 6:\ni = 1\nwhile i < 6:\n  print(i)\n  i += 1\n\n#Print each fruit in a fruit list:\nfruits = [\"apple\", \"banana\", \"cherry\"]\nfor x in fruits:\n  print(x)\n\n#The range() function defaults to increment the sequence by 1, \n#can specify the increment value by adding a third parameter: range(2, 30, 3):\n#Increment the sequence with 3 (default is 1):\nfor x in range(2, 30, 3):\n  print(x)\n\n#Print each adjective for every fruit:\nadj = [\"red\", \"big\", \"tasty\"]\nfruits = [\"apple\", \"banana\", \"cherry\"]\n\nfor x in adj:\n  for y in fruits:\n    print(x, y)\n    \n",
      "execution_count": null,
      "outputs": []
    },
    {
      "metadata": {
        "trusted": true
      },
      "cell_type": "code",
      "source": "## Working with strings\n\n#Get the character at position 1 (remember that the first character has the position 0):\na = \"Hello, World!\"\nprint(a[1])\n\n#Get the characters from position 2 to position 5 (not included):\nb = \"Hello, World!\"\nprint(b[2:5])\n\n#Get the characters from position 5 to position 1, starting the count from the end of the string:\nb = \"Hello, World!\"\nprint(b[-5:-2])\n\n#The len() function returns the length of a string:\nb = \"Hello, World!\"\nprint(len(b))\n\n#The strip() method removes any whitespace from the beginning or the end:\na = \" Hello, World! \"\nprint(a.strip()) # returns \"Hello, World!\"\n\n#The lower() and upper() method returns the string in lower/upper case:\na = \"Hello, World!\"\nprint(a.lower())\nprint(a.upper())\n\n#The replace() method replaces a string with another string:\nprint(a.replace(\"H\", \"J\"))\n\n#The split() method splits the string into substrings if it finds instances of the separator:\na = \"Hello, World!\"\nprint(a.split(\",\")) # returns ['Hello', ' World!']\n\n#Check if the phrase \"ain\" is present in the following text:\n\ntxt = \"The rain in Spain stays mainly in the plain\"\nx = \"ain\" in txt\nprint(x)\n\n#Use the format() method to insert numbers into strings:\nage = 36\ntxt = \"My name is John, and I am {}\"\nprint(txt.format(age))\n\n#The escape character allows you to use double quotes when you normally would not be allowed:\ntxt = \"We are the so-called \\\"Vikings\\\" from the north.\"\n",
      "execution_count": null,
      "outputs": []
    },
    {
      "metadata": {
        "trusted": true
      },
      "cell_type": "code",
      "source": "## Python Collections (Arrays) \n\n#List is a collection which is ordered and changeable. Allows duplicate members.\n#Tuple is a collection which is ordered and unchangeable. Allows duplicate members.\n#Set is a collection which is unordered and unindexed. No duplicate members.\n#Dictionary is a collection which is unordered, changeable and indexed. No duplicate members.\n\n## Working with Lists\n\n#Create a List:\nthislist = [\"apple\", \"banana\", \"cherry\"]\nprint(thislist)\n\n#Using the list() constructor to make a List:\nthislist = list((\"apple\", \"banana\", \"cherry\")) # note the double round-brackets\nprint(thislist)\n\n#Print the second item of the list:\nthislist = [\"apple\", \"banana\", \"cherry\"]\nprint(thislist[1])\n\n#Print the last item of the list:\nthislist = [\"apple\", \"banana\", \"cherry\"]\nprint(thislist[-1])\n\n#Return the third, fourth, and fifth item:\nthislist = [\"apple\", \"banana\", \"cherry\", \"orange\", \"kiwi\", \"melon\", \"mango\"]\nprint(thislist[2:5])\n\n#This example returns the items from the beginning to \"orange\":\nthislist = [\"apple\", \"banana\", \"cherry\", \"orange\", \"kiwi\", \"melon\", \"mango\"]\nprint(thislist[:4])\n\n#This example returns the items from \"cherry\" and to the end:\nthislist = [\"apple\", \"banana\", \"cherry\", \"orange\", \"kiwi\", \"melon\", \"mango\"]\nprint(thislist[2:])\n\n#This example returns the items from index -4 (included) to index -1 (excluded)\nthislist = [\"apple\", \"banana\", \"cherry\", \"orange\", \"kiwi\", \"melon\", \"mango\"]\nprint(thislist[-4:-1])\n\n#Change the second item:\nthislist = [\"apple\", \"banana\", \"cherry\"]\nthislist[1] = \"blackcurrant\"\nprint(thislist)\n\n#Print all items in the list, one by one:\nthislist = [\"apple\", \"banana\", \"cherry\"]\nfor x in thislist:\n  print(x)\n\n#Check if \"apple\" is present in the list:\nthislist = [\"apple\", \"banana\", \"cherry\"]\nif \"apple\" in thislist:\n  print(\"Yes, 'apple' is in the fruits list\")\n\n#Print the number of items in the list:\nthislist = [\"apple\", \"banana\", \"cherry\"]\nprint(len(thislist))\n\n#Using the append() method to append an item:\nthislist = [\"apple\", \"banana\", \"cherry\"]\nthislist.append(\"orange\")\nprint(thislist)\n\n#Insert an item as the second position:\nthislist = [\"apple\", \"banana\", \"cherry\"]\nthislist.insert(1, \"orange\")\nprint(thislist)\n\n#The remove() method removes the specified item:\nthislist = [\"apple\", \"banana\", \"cherry\"]\nthislist.remove(\"banana\")\nprint(thislist)\n\n#The pop() method removes the specified index, (or the last item if index is not specified):\nthislist = [\"apple\", \"banana\", \"cherry\"]\nthislist.pop()\nprint(thislist)\n\n#The del keyword removes the specified index:\nthislist = [\"apple\", \"banana\", \"cherry\"]\ndel thislist[0]\nprint(thislist)\n\n#Make a copy of a list with the copy() method:\nthislist = [\"apple\", \"banana\", \"cherry\"]\nmylist = thislist.copy()\nprint(mylist)\n\n#Use the extend() method to add list2 at the end of list1:\nlist1 = [\"a\", \"b\" , \"c\"]\nlist2 = [1, 2, 3]\nlist1.extend(list2)\nprint(list1)\n\n\n#Return an iterator from a tuple, and print each value:\nmytuple = (\"apple\", \"banana\", \"cherry\")\nmyit = iter(mytuple)\n\nprint(next(myit))\nprint(next(myit))\nprint(next(myit))\n\n#Iterate the values of a tuple:\nmytuple = (\"apple\", \"banana\", \"cherry\")\n\nfor x in mytuple:\n  print(x)\n",
      "execution_count": null,
      "outputs": []
    },
    {
      "metadata": {
        "trusted": true
      },
      "cell_type": "code",
      "source": "##Functions, Lambdas and modules\n\n#This function expects 2 arguments, and gets 2 arguments:\n#function definition\ndef my_function(fname, lname):\n  print(fname + \" \" + lname)\n\n#function call\nmy_function(\"Emil\", \"Refsnes\")\n\n\n#To let a function return a value, use the return statement:\ndef my_function(x):\n  return 5 * x\n\nprint(my_function(3))\nprint(my_function(5))\n\n\n#Recursion Example\n\ndef tri_recursion(k):\n  if(k > 0):\n    result = k + tri_recursion(k - 1)\n    print(result)\n  else:\n    result = 0\n  return result\n\nprint(\"\\n\\nRecursion Example Results\")\ntri_recursion(6)\n\n\n##A lambda function that multiplies argument a with argument b and print the result:\nx = lambda a, b : a * b\nprint(x(5, 6))\n\n#To create a module just save the code you want in a file with the file extension .py\n#Creating a module and Save this code in a file named mymodule.py\ndef greeting(name):\n  print(\"Hello, \" + name)\n\n#Import the module named mymodule, and call the greeting function:\nimport mymodule\nmymodule.greeting(\"Jonathan\")\n",
      "execution_count": null,
      "outputs": []
    },
    {
      "metadata": {
        "trusted": true
      },
      "cell_type": "code",
      "source": "##Working with data and dataframes\n#import the libraries\nimport numpy as np\nimport pandas as pd\n\n#Read the data from a csv file into a pandas dataframe\n3+2\nlang= pd.read_csv('ProgLang.csv', delimiter = ',')\nusacrimes= pd.read_csv('USCrimes.csv', delimiter = ',')\n\n#view some sample data from the dataframe\n#usacrimes.head()\n\n# View a list of columns in the dataframe\n#list(usacrimes)\n\n#view basic statistics\n#usacrimes.describe()\n\n#view  specific columns\n#usacrimes['Population1']\n\n#view specific rows\n#usacrimes[0:3]\n#usacrimes.head()\n\n# Get a correlation matrix of all numeric columns in the data\n#usacrimes.corr()\n\n#Dealing with missing values in the data\n#Replacing with some value\n#usacrimes. replace(-9999,0)\n\n#Filling in values that are 'na'\n#usacrimes.fillna(method=\"backfill\")\n\n#Drop rows with na values\n#usacrimes.dropna()\n\n#Interpolate missing values\n#usacrimes.interpolate()\n",
      "execution_count": 15,
      "outputs": []
    },
    {
      "metadata": {
        "trusted": true
      },
      "cell_type": "code",
      "source": "## Working with Arrays using Numpy library\n\n#Create an array containing car names:\ncars = [\"Ford\", \"Volvo\", \"BMW\"]\n\n#Get the value of the first array item:\na = cars[0]\nb = len(cars)\n\n#Print each item in the cars array:\nfor x in cars:\n  print(x)\n\n#Add one more element to the cars array:\ncars.append(\"Honda\")\n\n#Delete the second element of the cars array:\ncars.pop(1)\n\n#Delete the element that has the value \"Volvo\":\n#cars.remove(\"Volvo\")\n\n\n##Using NumPy\nimport numpy as np\n\n# Create a 1-D array Using Numpy library\narr = np.array([1, 2, 3, 4, 5])\nprint(arr)\nprint(type(arr))\n\n\n#Create a 2-D array containing two arrays with the values 1,2,3 and 4,5,6:\narr = np.array([[1, 2, 3], [4, 5, 6]])\nprint(arr)\n\n#Check how many dimensions the arrays have:\nprint(arr.ndim)\n\n#Create an array with 5 dimensions and verify that it has 5 dimensions:\narr = np.array([1, 2, 3, 4], ndmin=5)\nprint(arr)\nprint('number of dimensions :', arr.ndim)\n\n#Accessing elements of the array: get the third and fourth elements from the following array and add them.\narr = np.array([1, 2, 3, 4])\nprint(arr[2] + arr[3])\n\n#Access the 2nd element on 1st dim:\narr = np.array([[1,2,3,4,5], [6,7,8,9,10]])\nprint('2nd element on 1st dim: ', arr[0, 1])\n\n\n#Slice elements from index 1 to index 5 from the following array:\narr = np.array([1, 2, 3, 4, 5, 6, 7])\nprint(arr[1:5])\n\n#Slice elements from the beginning to index 4 (not included):\narr = np.array([1, 2, 3, 4, 5, 6, 7])\nprint(arr[:4])",
      "execution_count": null,
      "outputs": []
    },
    {
      "metadata": {
        "trusted": true
      },
      "cell_type": "code",
      "source": "## Data Visualization\n\n##Working with data and dataframes\n#import the libraries\nimport numpy as np\nimport pandas as pd\n\n#Read the data from a csv file into a pandas dataframe\n3+2\nlang= pd.read_csv('ProgLang.csv', delimiter = ',')\nusacrimes= pd.read_csv('USCrimes.csv', delimiter = ',')\n\n#view some sample data from the dataframe\nusacrimes.head()\n\n# Plot graphs\n#usacrimes.plot()\n#usacrimes.plot.box()\n#usacrimes.plot.hist()\n\n\n## Using the matplotlib library\n\n%matplotlib inline\n\nmovrat= pd.read_csv('ratings.csv', delimiter = ',')\nmovrat\n#list(movrat)\n#movrat.boxplot(column='rating', figsize=(15,10))\n",
      "execution_count": 42,
      "outputs": [
        {
          "output_type": "error",
          "ename": "FileNotFoundError",
          "evalue": "File b'ratings.csv' does not exist",
          "traceback": [
            "\u001b[0;31m---------------------------------------------------------------------------\u001b[0m",
            "\u001b[0;31mFileNotFoundError\u001b[0m                         Traceback (most recent call last)",
            "\u001b[0;32m<ipython-input-42-2daba47dc397>\u001b[0m in \u001b[0;36m<module>\u001b[0;34m\u001b[0m\n\u001b[1;32m     24\u001b[0m \u001b[0mget_ipython\u001b[0m\u001b[0;34m(\u001b[0m\u001b[0;34m)\u001b[0m\u001b[0;34m.\u001b[0m\u001b[0mrun_line_magic\u001b[0m\u001b[0;34m(\u001b[0m\u001b[0;34m'matplotlib'\u001b[0m\u001b[0;34m,\u001b[0m \u001b[0;34m'inline'\u001b[0m\u001b[0;34m)\u001b[0m\u001b[0;34m\u001b[0m\u001b[0m\n\u001b[1;32m     25\u001b[0m \u001b[0;34m\u001b[0m\u001b[0m\n\u001b[0;32m---> 26\u001b[0;31m \u001b[0mmovrat\u001b[0m\u001b[0;34m=\u001b[0m \u001b[0mpd\u001b[0m\u001b[0;34m.\u001b[0m\u001b[0mread_csv\u001b[0m\u001b[0;34m(\u001b[0m\u001b[0;34m'ratings.csv'\u001b[0m\u001b[0;34m,\u001b[0m \u001b[0mdelimiter\u001b[0m \u001b[0;34m=\u001b[0m \u001b[0;34m','\u001b[0m\u001b[0;34m)\u001b[0m\u001b[0;34m\u001b[0m\u001b[0m\n\u001b[0m\u001b[1;32m     27\u001b[0m \u001b[0mmovrat\u001b[0m\u001b[0;34m\u001b[0m\u001b[0m\n\u001b[1;32m     28\u001b[0m \u001b[0;31m#list(movrat)\u001b[0m\u001b[0;34m\u001b[0m\u001b[0;34m\u001b[0m\u001b[0m\n",
            "\u001b[0;32m~/anaconda3_501/lib/python3.6/site-packages/pandas/io/parsers.py\u001b[0m in \u001b[0;36mparser_f\u001b[0;34m(filepath_or_buffer, sep, delimiter, header, names, index_col, usecols, squeeze, prefix, mangle_dupe_cols, dtype, engine, converters, true_values, false_values, skipinitialspace, skiprows, nrows, na_values, keep_default_na, na_filter, verbose, skip_blank_lines, parse_dates, infer_datetime_format, keep_date_col, date_parser, dayfirst, iterator, chunksize, compression, thousands, decimal, lineterminator, quotechar, quoting, escapechar, comment, encoding, dialect, tupleize_cols, error_bad_lines, warn_bad_lines, skipfooter, doublequote, delim_whitespace, low_memory, memory_map, float_precision)\u001b[0m\n\u001b[1;32m    676\u001b[0m                     skip_blank_lines=skip_blank_lines)\n\u001b[1;32m    677\u001b[0m \u001b[0;34m\u001b[0m\u001b[0m\n\u001b[0;32m--> 678\u001b[0;31m         \u001b[0;32mreturn\u001b[0m \u001b[0m_read\u001b[0m\u001b[0;34m(\u001b[0m\u001b[0mfilepath_or_buffer\u001b[0m\u001b[0;34m,\u001b[0m \u001b[0mkwds\u001b[0m\u001b[0;34m)\u001b[0m\u001b[0;34m\u001b[0m\u001b[0m\n\u001b[0m\u001b[1;32m    679\u001b[0m \u001b[0;34m\u001b[0m\u001b[0m\n\u001b[1;32m    680\u001b[0m     \u001b[0mparser_f\u001b[0m\u001b[0;34m.\u001b[0m\u001b[0m__name__\u001b[0m \u001b[0;34m=\u001b[0m \u001b[0mname\u001b[0m\u001b[0;34m\u001b[0m\u001b[0m\n",
            "\u001b[0;32m~/anaconda3_501/lib/python3.6/site-packages/pandas/io/parsers.py\u001b[0m in \u001b[0;36m_read\u001b[0;34m(filepath_or_buffer, kwds)\u001b[0m\n\u001b[1;32m    438\u001b[0m \u001b[0;34m\u001b[0m\u001b[0m\n\u001b[1;32m    439\u001b[0m     \u001b[0;31m# Create the parser.\u001b[0m\u001b[0;34m\u001b[0m\u001b[0;34m\u001b[0m\u001b[0m\n\u001b[0;32m--> 440\u001b[0;31m     \u001b[0mparser\u001b[0m \u001b[0;34m=\u001b[0m \u001b[0mTextFileReader\u001b[0m\u001b[0;34m(\u001b[0m\u001b[0mfilepath_or_buffer\u001b[0m\u001b[0;34m,\u001b[0m \u001b[0;34m**\u001b[0m\u001b[0mkwds\u001b[0m\u001b[0;34m)\u001b[0m\u001b[0;34m\u001b[0m\u001b[0m\n\u001b[0m\u001b[1;32m    441\u001b[0m \u001b[0;34m\u001b[0m\u001b[0m\n\u001b[1;32m    442\u001b[0m     \u001b[0;32mif\u001b[0m \u001b[0mchunksize\u001b[0m \u001b[0;32mor\u001b[0m \u001b[0miterator\u001b[0m\u001b[0;34m:\u001b[0m\u001b[0;34m\u001b[0m\u001b[0m\n",
            "\u001b[0;32m~/anaconda3_501/lib/python3.6/site-packages/pandas/io/parsers.py\u001b[0m in \u001b[0;36m__init__\u001b[0;34m(self, f, engine, **kwds)\u001b[0m\n\u001b[1;32m    785\u001b[0m             \u001b[0mself\u001b[0m\u001b[0;34m.\u001b[0m\u001b[0moptions\u001b[0m\u001b[0;34m[\u001b[0m\u001b[0;34m'has_index_names'\u001b[0m\u001b[0;34m]\u001b[0m \u001b[0;34m=\u001b[0m \u001b[0mkwds\u001b[0m\u001b[0;34m[\u001b[0m\u001b[0;34m'has_index_names'\u001b[0m\u001b[0;34m]\u001b[0m\u001b[0;34m\u001b[0m\u001b[0m\n\u001b[1;32m    786\u001b[0m \u001b[0;34m\u001b[0m\u001b[0m\n\u001b[0;32m--> 787\u001b[0;31m         \u001b[0mself\u001b[0m\u001b[0;34m.\u001b[0m\u001b[0m_make_engine\u001b[0m\u001b[0;34m(\u001b[0m\u001b[0mself\u001b[0m\u001b[0;34m.\u001b[0m\u001b[0mengine\u001b[0m\u001b[0;34m)\u001b[0m\u001b[0;34m\u001b[0m\u001b[0m\n\u001b[0m\u001b[1;32m    788\u001b[0m \u001b[0;34m\u001b[0m\u001b[0m\n\u001b[1;32m    789\u001b[0m     \u001b[0;32mdef\u001b[0m \u001b[0mclose\u001b[0m\u001b[0;34m(\u001b[0m\u001b[0mself\u001b[0m\u001b[0;34m)\u001b[0m\u001b[0;34m:\u001b[0m\u001b[0;34m\u001b[0m\u001b[0m\n",
            "\u001b[0;32m~/anaconda3_501/lib/python3.6/site-packages/pandas/io/parsers.py\u001b[0m in \u001b[0;36m_make_engine\u001b[0;34m(self, engine)\u001b[0m\n\u001b[1;32m   1012\u001b[0m     \u001b[0;32mdef\u001b[0m \u001b[0m_make_engine\u001b[0m\u001b[0;34m(\u001b[0m\u001b[0mself\u001b[0m\u001b[0;34m,\u001b[0m \u001b[0mengine\u001b[0m\u001b[0;34m=\u001b[0m\u001b[0;34m'c'\u001b[0m\u001b[0;34m)\u001b[0m\u001b[0;34m:\u001b[0m\u001b[0;34m\u001b[0m\u001b[0m\n\u001b[1;32m   1013\u001b[0m         \u001b[0;32mif\u001b[0m \u001b[0mengine\u001b[0m \u001b[0;34m==\u001b[0m \u001b[0;34m'c'\u001b[0m\u001b[0;34m:\u001b[0m\u001b[0;34m\u001b[0m\u001b[0m\n\u001b[0;32m-> 1014\u001b[0;31m             \u001b[0mself\u001b[0m\u001b[0;34m.\u001b[0m\u001b[0m_engine\u001b[0m \u001b[0;34m=\u001b[0m \u001b[0mCParserWrapper\u001b[0m\u001b[0;34m(\u001b[0m\u001b[0mself\u001b[0m\u001b[0;34m.\u001b[0m\u001b[0mf\u001b[0m\u001b[0;34m,\u001b[0m \u001b[0;34m**\u001b[0m\u001b[0mself\u001b[0m\u001b[0;34m.\u001b[0m\u001b[0moptions\u001b[0m\u001b[0;34m)\u001b[0m\u001b[0;34m\u001b[0m\u001b[0m\n\u001b[0m\u001b[1;32m   1015\u001b[0m         \u001b[0;32melse\u001b[0m\u001b[0;34m:\u001b[0m\u001b[0;34m\u001b[0m\u001b[0m\n\u001b[1;32m   1016\u001b[0m             \u001b[0;32mif\u001b[0m \u001b[0mengine\u001b[0m \u001b[0;34m==\u001b[0m \u001b[0;34m'python'\u001b[0m\u001b[0;34m:\u001b[0m\u001b[0;34m\u001b[0m\u001b[0m\n",
            "\u001b[0;32m~/anaconda3_501/lib/python3.6/site-packages/pandas/io/parsers.py\u001b[0m in \u001b[0;36m__init__\u001b[0;34m(self, src, **kwds)\u001b[0m\n\u001b[1;32m   1706\u001b[0m         \u001b[0mkwds\u001b[0m\u001b[0;34m[\u001b[0m\u001b[0;34m'usecols'\u001b[0m\u001b[0;34m]\u001b[0m \u001b[0;34m=\u001b[0m \u001b[0mself\u001b[0m\u001b[0;34m.\u001b[0m\u001b[0musecols\u001b[0m\u001b[0;34m\u001b[0m\u001b[0m\n\u001b[1;32m   1707\u001b[0m \u001b[0;34m\u001b[0m\u001b[0m\n\u001b[0;32m-> 1708\u001b[0;31m         \u001b[0mself\u001b[0m\u001b[0;34m.\u001b[0m\u001b[0m_reader\u001b[0m \u001b[0;34m=\u001b[0m \u001b[0mparsers\u001b[0m\u001b[0;34m.\u001b[0m\u001b[0mTextReader\u001b[0m\u001b[0;34m(\u001b[0m\u001b[0msrc\u001b[0m\u001b[0;34m,\u001b[0m \u001b[0;34m**\u001b[0m\u001b[0mkwds\u001b[0m\u001b[0;34m)\u001b[0m\u001b[0;34m\u001b[0m\u001b[0m\n\u001b[0m\u001b[1;32m   1709\u001b[0m \u001b[0;34m\u001b[0m\u001b[0m\n\u001b[1;32m   1710\u001b[0m         \u001b[0mpassed_names\u001b[0m \u001b[0;34m=\u001b[0m \u001b[0mself\u001b[0m\u001b[0;34m.\u001b[0m\u001b[0mnames\u001b[0m \u001b[0;32mis\u001b[0m \u001b[0;32mNone\u001b[0m\u001b[0;34m\u001b[0m\u001b[0m\n",
            "\u001b[0;32mpandas/_libs/parsers.pyx\u001b[0m in \u001b[0;36mpandas._libs.parsers.TextReader.__cinit__\u001b[0;34m()\u001b[0m\n",
            "\u001b[0;32mpandas/_libs/parsers.pyx\u001b[0m in \u001b[0;36mpandas._libs.parsers.TextReader._setup_parser_source\u001b[0;34m()\u001b[0m\n",
            "\u001b[0;31mFileNotFoundError\u001b[0m: File b'ratings.csv' does not exist"
          ]
        }
      ]
    },
    {
      "metadata": {
        "trusted": true
      },
      "cell_type": "code",
      "source": "",
      "execution_count": null,
      "outputs": []
    }
  ],
  "metadata": {
    "kernelspec": {
      "name": "python36",
      "display_name": "Python 3.6",
      "language": "python"
    },
    "language_info": {
      "mimetype": "text/x-python",
      "nbconvert_exporter": "python",
      "name": "python",
      "pygments_lexer": "ipython3",
      "version": "3.6.6",
      "file_extension": ".py",
      "codemirror_mode": {
        "version": 3,
        "name": "ipython"
      }
    }
  },
  "nbformat": 4,
  "nbformat_minor": 2
}